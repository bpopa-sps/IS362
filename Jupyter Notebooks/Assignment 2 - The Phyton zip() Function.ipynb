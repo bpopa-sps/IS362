{
 "cells": [
  {
   "cell_type": "markdown",
   "id": "0828ccb6",
   "metadata": {},
   "source": [
    "# zip() Function in Python"
   ]
  },
  {
   "cell_type": "markdown",
   "id": "0218c47c",
   "metadata": {},
   "source": [
    "The zip() method takes two or more iterables and merges them into an array of tuples. Zip() will return a zip object where each item in the passed iterators will be group together. "
   ]
  },
  {
   "cell_type": "markdown",
   "id": "46d53360",
   "metadata": {},
   "source": [
    "### Syntax"
   ]
  },
  {
   "cell_type": "markdown",
   "id": "7bad6a41",
   "metadata": {},
   "source": [
    "zip(iterable1, iterable2, iterable3 ...)"
   ]
  },
  {
   "cell_type": "markdown",
   "id": "e56e1ded",
   "metadata": {},
   "source": [
    "### Example"
   ]
  },
  {
   "cell_type": "code",
   "execution_count": 7,
   "id": "cfa598fb",
   "metadata": {},
   "outputs": [
    {
     "data": {
      "text/plain": [
       "[(1, 'a', 'red'), (2, 'c', 'blue'), (3, 'b', 'green')]"
      ]
     },
     "execution_count": 7,
     "metadata": {},
     "output_type": "execute_result"
    }
   ],
   "source": [
    "# Define the S1 and S2 iterables\n",
    "i1 = {1, 2, 3}\n",
    "i2 = {'b', 'a', 'c'}\n",
    "i3 = ('red','blue','green')\n",
    "\n",
    "# Zip i1,i2 and i3 and assign the resulting array to z1\n",
    "z1=zip(i1, i2, i3)\n",
    "\n",
    "# Print the zipped tuple\n",
    "list(z1)"
   ]
  },
  {
   "cell_type": "markdown",
   "id": "145fe9f1",
   "metadata": {},
   "source": [
    "When the passes iterables are different number of elements than the zip() functions stops when the shortest input iterable is exhausted."
   ]
  },
  {
   "cell_type": "code",
   "execution_count": 10,
   "id": "a124ea0f",
   "metadata": {},
   "outputs": [
    {
     "data": {
      "text/plain": [
       "[('abc', '123'), ('def', '456')]"
      ]
     },
     "execution_count": 10,
     "metadata": {},
     "output_type": "execute_result"
    }
   ],
   "source": [
    "# Example of different size iterables\n",
    "short_iterable = ('abc','def')\n",
    "long_iterable =('123','456','789','1011')\n",
    "\n",
    "# zip() of unequal length input\n",
    "zipped=zip(short_iterable,long_iterable)\n",
    "\n",
    "list(zipped)"
   ]
  },
  {
   "cell_type": "markdown",
   "id": "dd87b62e",
   "metadata": {},
   "source": [
    "### Unzipping a zip() list"
   ]
  },
  {
   "cell_type": "markdown",
   "id": "c1c785ea",
   "metadata": {},
   "source": [
    "To unzip the * operator should be used. "
   ]
  },
  {
   "cell_type": "markdown",
   "id": "7facb6ff",
   "metadata": {},
   "source": [
    "zip(*zippedList)"
   ]
  },
  {
   "cell_type": "code",
   "execution_count": 19,
   "id": "fc8e1249",
   "metadata": {},
   "outputs": [
    {
     "name": "stdout",
     "output_type": "stream",
     "text": [
      "('a', 'c', 'b')\n",
      "('red', 'blue', 'green')\n"
     ]
    }
   ],
   "source": [
    "# Example of Unzipping\n",
    "i1 = {'b', 'a', 'c'}\n",
    "i2 = ('red','blue','green')\n",
    "\n",
    "# Zip i1,i2 and i3 and assign the resulting array to z1\n",
    "zipped=zip(i1, i2)\n",
    "\n",
    "#Unzipping\n",
    "x,y = zip(*zipped)\n",
    "\n",
    "# Print the Unzipped iterables\n",
    "print(x)\n",
    "print(y)\n"
   ]
  }
 ],
 "metadata": {
  "kernelspec": {
   "display_name": "Python 3 (ipykernel)",
   "language": "python",
   "name": "python3"
  },
  "language_info": {
   "codemirror_mode": {
    "name": "ipython",
    "version": 3
   },
   "file_extension": ".py",
   "mimetype": "text/x-python",
   "name": "python",
   "nbconvert_exporter": "python",
   "pygments_lexer": "ipython3",
   "version": "3.10.2"
  }
 },
 "nbformat": 4,
 "nbformat_minor": 5
}
