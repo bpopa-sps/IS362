{
 "cells": [
  {
   "cell_type": "markdown",
   "id": "ad376d2e",
   "metadata": {},
   "source": [
    "## Assignment - Week 12\n",
    "### by Bogdan Popa\n",
    "\n",
    "The assignment is to preprocess data for scikit-learn. The mushroom dataset foudn in the UCI repository will be used for the project https://archive.ics.uci.edu/ml/datasets/Mushroom. \n"
   ]
  },
  {
   "cell_type": "code",
   "execution_count": 141,
   "id": "561d6ad0",
   "metadata": {},
   "outputs": [],
   "source": [
    "import pandas as pd\n",
    "\n",
    "# Read the data and assign it to the data dataset\n",
    "data = pd.read_csv('agaricus-lepiota.data', sep=\",\", header=None)"
   ]
  },
  {
   "cell_type": "code",
   "execution_count": 142,
   "id": "d70f2c64",
   "metadata": {},
   "outputs": [
    {
     "name": "stdout",
     "output_type": "stream",
     "text": [
      "     0  1  2  3  4  5  6  7  8  9   ... 13 14 15 16 17 18 19 20 21 22\n",
      "0     p  x  s  n  t  p  f  c  n  k  ...  s  w  w  p  w  o  p  k  s  u\n",
      "1     e  x  s  y  t  a  f  c  b  k  ...  s  w  w  p  w  o  p  n  n  g\n",
      "2     e  b  s  w  t  l  f  c  b  n  ...  s  w  w  p  w  o  p  n  n  m\n",
      "3     p  x  y  w  t  p  f  c  n  n  ...  s  w  w  p  w  o  p  k  s  u\n",
      "4     e  x  s  g  f  n  f  w  b  k  ...  s  w  w  p  w  o  e  n  a  g\n",
      "...  .. .. .. .. .. .. .. .. .. ..  ... .. .. .. .. .. .. .. .. .. ..\n",
      "8119  e  k  s  n  f  n  a  c  b  y  ...  s  o  o  p  o  o  p  b  c  l\n",
      "8120  e  x  s  n  f  n  a  c  b  y  ...  s  o  o  p  n  o  p  b  v  l\n",
      "8121  e  f  s  n  f  n  a  c  b  n  ...  s  o  o  p  o  o  p  b  c  l\n",
      "8122  p  k  y  n  f  y  f  c  n  b  ...  k  w  w  p  w  o  e  w  v  l\n",
      "8123  e  x  s  n  f  n  a  c  b  y  ...  s  o  o  p  o  o  p  o  c  l\n",
      "\n",
      "[8124 rows x 23 columns]\n"
     ]
    }
   ],
   "source": [
    "# Printing the dataset\n",
    "print(data)"
   ]
  },
  {
   "cell_type": "markdown",
   "id": "8bbd5bf6",
   "metadata": {},
   "source": [
    "### Adding a header\n",
    "\n",
    "The data set does not include a header. Information about each data column can be found on the UCI repository."
   ]
  },
  {
   "cell_type": "code",
   "execution_count": 143,
   "id": "6c91cd93",
   "metadata": {},
   "outputs": [],
   "source": [
    "# Adding headers to each of the 23 columns based on the information found on the UCI repository \n",
    "data.columns =[\"edible/poisonous\",\"cap-shape\",\"cap-surface\",\"cap-color\",\"bruises\",\"odor\",\n",
    "              \"gill-attachment\",\"gill-spacing\",\"gill-size\",\"gill-color\",\"stalk-shape\",\"stalk-root\",\n",
    "              \"stalk-surface-above-ring\",\"stalk-surface-below-ring\",\"stalk-color-above-ring\",\n",
    "              \"stalk-color-below-ring\",\"veil-type\",\"veil-color\",\"ring-number\",\"ring-type\",\n",
    "              \"spore-print-color\",\"population\",\"habitat\"]"
   ]
  },
  {
   "cell_type": "code",
   "execution_count": 144,
   "id": "a9251425",
   "metadata": {},
   "outputs": [
    {
     "data": {
      "text/html": [
       "<div>\n",
       "<style scoped>\n",
       "    .dataframe tbody tr th:only-of-type {\n",
       "        vertical-align: middle;\n",
       "    }\n",
       "\n",
       "    .dataframe tbody tr th {\n",
       "        vertical-align: top;\n",
       "    }\n",
       "\n",
       "    .dataframe thead th {\n",
       "        text-align: right;\n",
       "    }\n",
       "</style>\n",
       "<table border=\"1\" class=\"dataframe\">\n",
       "  <thead>\n",
       "    <tr style=\"text-align: right;\">\n",
       "      <th></th>\n",
       "      <th>edible/poisonous</th>\n",
       "      <th>cap-shape</th>\n",
       "      <th>cap-surface</th>\n",
       "      <th>cap-color</th>\n",
       "      <th>bruises</th>\n",
       "      <th>odor</th>\n",
       "      <th>gill-attachment</th>\n",
       "      <th>gill-spacing</th>\n",
       "      <th>gill-size</th>\n",
       "      <th>gill-color</th>\n",
       "      <th>...</th>\n",
       "      <th>stalk-surface-below-ring</th>\n",
       "      <th>stalk-color-above-ring</th>\n",
       "      <th>stalk-color-below-ring</th>\n",
       "      <th>veil-type</th>\n",
       "      <th>veil-color</th>\n",
       "      <th>ring-number</th>\n",
       "      <th>ring-type</th>\n",
       "      <th>spore-print-color</th>\n",
       "      <th>population</th>\n",
       "      <th>habitat</th>\n",
       "    </tr>\n",
       "  </thead>\n",
       "  <tbody>\n",
       "    <tr>\n",
       "      <th>0</th>\n",
       "      <td>p</td>\n",
       "      <td>x</td>\n",
       "      <td>s</td>\n",
       "      <td>n</td>\n",
       "      <td>t</td>\n",
       "      <td>p</td>\n",
       "      <td>f</td>\n",
       "      <td>c</td>\n",
       "      <td>n</td>\n",
       "      <td>k</td>\n",
       "      <td>...</td>\n",
       "      <td>s</td>\n",
       "      <td>w</td>\n",
       "      <td>w</td>\n",
       "      <td>p</td>\n",
       "      <td>w</td>\n",
       "      <td>o</td>\n",
       "      <td>p</td>\n",
       "      <td>k</td>\n",
       "      <td>s</td>\n",
       "      <td>u</td>\n",
       "    </tr>\n",
       "    <tr>\n",
       "      <th>1</th>\n",
       "      <td>e</td>\n",
       "      <td>x</td>\n",
       "      <td>s</td>\n",
       "      <td>y</td>\n",
       "      <td>t</td>\n",
       "      <td>a</td>\n",
       "      <td>f</td>\n",
       "      <td>c</td>\n",
       "      <td>b</td>\n",
       "      <td>k</td>\n",
       "      <td>...</td>\n",
       "      <td>s</td>\n",
       "      <td>w</td>\n",
       "      <td>w</td>\n",
       "      <td>p</td>\n",
       "      <td>w</td>\n",
       "      <td>o</td>\n",
       "      <td>p</td>\n",
       "      <td>n</td>\n",
       "      <td>n</td>\n",
       "      <td>g</td>\n",
       "    </tr>\n",
       "    <tr>\n",
       "      <th>2</th>\n",
       "      <td>e</td>\n",
       "      <td>b</td>\n",
       "      <td>s</td>\n",
       "      <td>w</td>\n",
       "      <td>t</td>\n",
       "      <td>l</td>\n",
       "      <td>f</td>\n",
       "      <td>c</td>\n",
       "      <td>b</td>\n",
       "      <td>n</td>\n",
       "      <td>...</td>\n",
       "      <td>s</td>\n",
       "      <td>w</td>\n",
       "      <td>w</td>\n",
       "      <td>p</td>\n",
       "      <td>w</td>\n",
       "      <td>o</td>\n",
       "      <td>p</td>\n",
       "      <td>n</td>\n",
       "      <td>n</td>\n",
       "      <td>m</td>\n",
       "    </tr>\n",
       "    <tr>\n",
       "      <th>3</th>\n",
       "      <td>p</td>\n",
       "      <td>x</td>\n",
       "      <td>y</td>\n",
       "      <td>w</td>\n",
       "      <td>t</td>\n",
       "      <td>p</td>\n",
       "      <td>f</td>\n",
       "      <td>c</td>\n",
       "      <td>n</td>\n",
       "      <td>n</td>\n",
       "      <td>...</td>\n",
       "      <td>s</td>\n",
       "      <td>w</td>\n",
       "      <td>w</td>\n",
       "      <td>p</td>\n",
       "      <td>w</td>\n",
       "      <td>o</td>\n",
       "      <td>p</td>\n",
       "      <td>k</td>\n",
       "      <td>s</td>\n",
       "      <td>u</td>\n",
       "    </tr>\n",
       "    <tr>\n",
       "      <th>4</th>\n",
       "      <td>e</td>\n",
       "      <td>x</td>\n",
       "      <td>s</td>\n",
       "      <td>g</td>\n",
       "      <td>f</td>\n",
       "      <td>n</td>\n",
       "      <td>f</td>\n",
       "      <td>w</td>\n",
       "      <td>b</td>\n",
       "      <td>k</td>\n",
       "      <td>...</td>\n",
       "      <td>s</td>\n",
       "      <td>w</td>\n",
       "      <td>w</td>\n",
       "      <td>p</td>\n",
       "      <td>w</td>\n",
       "      <td>o</td>\n",
       "      <td>e</td>\n",
       "      <td>n</td>\n",
       "      <td>a</td>\n",
       "      <td>g</td>\n",
       "    </tr>\n",
       "  </tbody>\n",
       "</table>\n",
       "<p>5 rows × 23 columns</p>\n",
       "</div>"
      ],
      "text/plain": [
       "  edible/poisonous cap-shape cap-surface cap-color bruises odor  \\\n",
       "0                p         x           s         n       t    p   \n",
       "1                e         x           s         y       t    a   \n",
       "2                e         b           s         w       t    l   \n",
       "3                p         x           y         w       t    p   \n",
       "4                e         x           s         g       f    n   \n",
       "\n",
       "  gill-attachment gill-spacing gill-size gill-color  ...  \\\n",
       "0               f            c         n          k  ...   \n",
       "1               f            c         b          k  ...   \n",
       "2               f            c         b          n  ...   \n",
       "3               f            c         n          n  ...   \n",
       "4               f            w         b          k  ...   \n",
       "\n",
       "  stalk-surface-below-ring stalk-color-above-ring stalk-color-below-ring  \\\n",
       "0                        s                      w                      w   \n",
       "1                        s                      w                      w   \n",
       "2                        s                      w                      w   \n",
       "3                        s                      w                      w   \n",
       "4                        s                      w                      w   \n",
       "\n",
       "  veil-type veil-color ring-number ring-type spore-print-color population  \\\n",
       "0         p          w           o         p                 k          s   \n",
       "1         p          w           o         p                 n          n   \n",
       "2         p          w           o         p                 n          n   \n",
       "3         p          w           o         p                 k          s   \n",
       "4         p          w           o         e                 n          a   \n",
       "\n",
       "  habitat  \n",
       "0       u  \n",
       "1       g  \n",
       "2       m  \n",
       "3       u  \n",
       "4       g  \n",
       "\n",
       "[5 rows x 23 columns]"
      ]
     },
     "execution_count": 144,
     "metadata": {},
     "output_type": "execute_result"
    }
   ],
   "source": [
    "# Print the heading of the dataset\n",
    "data.head()"
   ]
  },
  {
   "cell_type": "markdown",
   "id": "a85b97b7",
   "metadata": {},
   "source": [
    "### \"Edible/Poisonous\", \"Odor\", and \"Cap-color\" dataset\n",
    "\n",
    "Next, I create a new dataset using only the \"target\" edible/poisonous column, the \"odor\" column, and the \"cap-color\" colulmn."
   ]
  },
  {
   "cell_type": "code",
   "execution_count": 145,
   "id": "c86dd388",
   "metadata": {},
   "outputs": [
    {
     "data": {
      "text/html": [
       "<div>\n",
       "<style scoped>\n",
       "    .dataframe tbody tr th:only-of-type {\n",
       "        vertical-align: middle;\n",
       "    }\n",
       "\n",
       "    .dataframe tbody tr th {\n",
       "        vertical-align: top;\n",
       "    }\n",
       "\n",
       "    .dataframe thead th {\n",
       "        text-align: right;\n",
       "    }\n",
       "</style>\n",
       "<table border=\"1\" class=\"dataframe\">\n",
       "  <thead>\n",
       "    <tr style=\"text-align: right;\">\n",
       "      <th></th>\n",
       "      <th>edible/poisonous</th>\n",
       "      <th>odor</th>\n",
       "      <th>cap-color</th>\n",
       "    </tr>\n",
       "  </thead>\n",
       "  <tbody>\n",
       "    <tr>\n",
       "      <th>0</th>\n",
       "      <td>p</td>\n",
       "      <td>p</td>\n",
       "      <td>n</td>\n",
       "    </tr>\n",
       "    <tr>\n",
       "      <th>1</th>\n",
       "      <td>e</td>\n",
       "      <td>a</td>\n",
       "      <td>y</td>\n",
       "    </tr>\n",
       "    <tr>\n",
       "      <th>2</th>\n",
       "      <td>e</td>\n",
       "      <td>l</td>\n",
       "      <td>w</td>\n",
       "    </tr>\n",
       "    <tr>\n",
       "      <th>3</th>\n",
       "      <td>p</td>\n",
       "      <td>p</td>\n",
       "      <td>w</td>\n",
       "    </tr>\n",
       "    <tr>\n",
       "      <th>4</th>\n",
       "      <td>e</td>\n",
       "      <td>n</td>\n",
       "      <td>g</td>\n",
       "    </tr>\n",
       "  </tbody>\n",
       "</table>\n",
       "</div>"
      ],
      "text/plain": [
       "  edible/poisonous odor cap-color\n",
       "0                p    p         n\n",
       "1                e    a         y\n",
       "2                e    l         w\n",
       "3                p    p         w\n",
       "4                e    n         g"
      ]
     },
     "execution_count": 145,
     "metadata": {},
     "output_type": "execute_result"
    }
   ],
   "source": [
    "new_df = data.filter(['edible/poisonous','odor','cap-color'])\n",
    "new_df.head()"
   ]
  },
  {
   "cell_type": "markdown",
   "id": "70b87336",
   "metadata": {},
   "source": [
    "#### Replacing codes with numeric values.\n",
    "\n",
    "Scikit-learn requires that values be stored as numerics. The values in the dataset will be converted to numeric as follow:\n",
    "\n",
    "The values for the \"Edible/Poisonous\" column\n",
    "\n",
    "| Edible/Poisonous | Code | Numeric Value |\n",
    "| :- | :- | :- |\n",
    "| Edible | e | 0 |\n",
    "| Poisonous | p | 1 |\n"
   ]
  },
  {
   "cell_type": "markdown",
   "id": "0b95f3f3",
   "metadata": {},
   "source": [
    "The values for the \"Odor\" column\n",
    "\n",
    "| Odor | Code | Numeric Value |\n",
    "| :- | :- | :- |\n",
    "| almond | a | 1 |\n",
    "| anise | l | 2 |\n",
    "| creosote | c | 3 |\n",
    "| fishy | y | 4 |\n",
    "| foul | f | 5 |\n",
    "| musty | m | 6 |\n",
    "| none | n | 0 |\n",
    "| pungent | p | 7 |\n",
    "| spicy | s | 8 |"
   ]
  },
  {
   "cell_type": "markdown",
   "id": "f10eb05a",
   "metadata": {},
   "source": [
    "The values for the \"cap-color\" column\n",
    "\n",
    "| Cap Color | Code | Numeric Value |\n",
    "| :- | :- | :- |\n",
    "| brown | n | 0 |\n",
    "| buff | b | 1 |\n",
    "| cinnamon | c | 2 |\n",
    "| gray | g | 3 |\n",
    "| green | r | 4 |\n",
    "| pink | p | 5 |\n",
    "| purple | u | 6 |\n",
    "| red | e | 7 |\n",
    "| white | w | 8 |\n",
    "| yellow | y | 9 |\n"
   ]
  },
  {
   "cell_type": "code",
   "execution_count": 146,
   "id": "c467d112",
   "metadata": {},
   "outputs": [
    {
     "data": {
      "text/html": [
       "<div>\n",
       "<style scoped>\n",
       "    .dataframe tbody tr th:only-of-type {\n",
       "        vertical-align: middle;\n",
       "    }\n",
       "\n",
       "    .dataframe tbody tr th {\n",
       "        vertical-align: top;\n",
       "    }\n",
       "\n",
       "    .dataframe thead th {\n",
       "        text-align: right;\n",
       "    }\n",
       "</style>\n",
       "<table border=\"1\" class=\"dataframe\">\n",
       "  <thead>\n",
       "    <tr style=\"text-align: right;\">\n",
       "      <th></th>\n",
       "      <th>edible/poisonous</th>\n",
       "      <th>odor</th>\n",
       "      <th>cap-color</th>\n",
       "    </tr>\n",
       "  </thead>\n",
       "  <tbody>\n",
       "    <tr>\n",
       "      <th>0</th>\n",
       "      <td>1</td>\n",
       "      <td>7</td>\n",
       "      <td>0</td>\n",
       "    </tr>\n",
       "    <tr>\n",
       "      <th>1</th>\n",
       "      <td>0</td>\n",
       "      <td>1</td>\n",
       "      <td>9</td>\n",
       "    </tr>\n",
       "    <tr>\n",
       "      <th>2</th>\n",
       "      <td>0</td>\n",
       "      <td>2</td>\n",
       "      <td>8</td>\n",
       "    </tr>\n",
       "    <tr>\n",
       "      <th>3</th>\n",
       "      <td>1</td>\n",
       "      <td>7</td>\n",
       "      <td>8</td>\n",
       "    </tr>\n",
       "    <tr>\n",
       "      <th>4</th>\n",
       "      <td>0</td>\n",
       "      <td>0</td>\n",
       "      <td>3</td>\n",
       "    </tr>\n",
       "  </tbody>\n",
       "</table>\n",
       "</div>"
      ],
      "text/plain": [
       "   edible/poisonous  odor  cap-color\n",
       "0                 1     7          0\n",
       "1                 0     1          9\n",
       "2                 0     2          8\n",
       "3                 1     7          8\n",
       "4                 0     0          3"
      ]
     },
     "execution_count": 146,
     "metadata": {},
     "output_type": "execute_result"
    }
   ],
   "source": [
    "# Replacing codes in each columln with the nulmeric values found above.\n",
    "new_df['edible/poisonous']=new_df['edible/poisonous'].replace({'e':0,'p':1})\n",
    "new_df['odor']=new_df['odor'].replace({'a':1,'l':2,'c':3,'y':4,'f':5,'m':6,'n':0,'p':7,'s':8})\n",
    "new_df['cap-color']=new_df['cap-color'].replace({'n':0,'b':1,'c':2,'g':3,'r':4,'p':5,'u':6,'e':7,'w':8,'y':9})\n",
    "\n",
    "# printing the header to verify\n",
    "new_df.head()"
   ]
  },
  {
   "cell_type": "markdown",
   "id": "cf092ac3",
   "metadata": {},
   "source": [
    "### Plotting the data\n",
    "\n",
    "First let's look at the distribution of poisonous and edible mushrooms."
   ]
  },
  {
   "cell_type": "code",
   "execution_count": 147,
   "id": "e6aeaef3",
   "metadata": {},
   "outputs": [
    {
     "data": {
      "text/plain": [
       "<AxesSubplot:title={'center':'Distribution of Edible(0) and Poisonous(1) Mushrooms'}, ylabel='Edible (0) / Poisonous (1)'>"
      ]
     },
     "execution_count": 147,
     "metadata": {},
     "output_type": "execute_result"
    },
    {
     "data": {
      "image/png": "[encoded data removed]",
      "text/plain": [
       "<Figure size 432x288 with 1 Axes>"
      ]
     },
     "metadata": {
      "needs_background": "light"
     },
     "output_type": "display_data"
    }
   ],
   "source": [
    "new_df['edible/poisonous'].value_counts().plot(kind='barh',title=\"Distribution of Edible(0) and Poisonous(1) Mushrooms\",ylabel=\"Edible (0) / Poisonous (1)\")"
   ]
  },
  {
   "cell_type": "markdown",
   "id": "83af3bbd",
   "metadata": {},
   "source": [
    "The distribution of poisonous and edible mushrooms is pretty close. There are slightly more edible mushrooms than poisonous ones.\n",
    "\n",
    "Next, lets look to see if odor can determine which mushrooms are poisonous."
   ]
  },
  {
   "cell_type": "code",
   "execution_count": 148,
   "id": "8ce3abc3",
   "metadata": {},
   "outputs": [
    {
     "data": {
      "text/plain": [
       "<AxesSubplot:xlabel='odor', ylabel='edible/poisonous'>"
      ]
     },
     "execution_count": 148,
     "metadata": {},
     "output_type": "execute_result"
    },
    {
     "data": {
      "image/png": "[encoded data removed]",
      "text/plain": [
       "<Figure size 432x288 with 1 Axes>"
      ]
     },
     "metadata": {
      "needs_background": "light"
     },
     "output_type": "display_data"
    }
   ],
   "source": [
    "data.plot.scatter(x='odor', y='edible/poisonous')\n"
   ]
  },
  {
   "cell_type": "markdown",
   "id": "64f4c3f0",
   "metadata": {},
   "source": [
    "It looks like any mushrooms that have an almond or anise odor are edible. All other can be  poisonous.\n"
   ]
  },
  {
   "cell_type": "markdown",
   "id": "cf064794",
   "metadata": {},
   "source": [
    "Lastly, let's determine if there's a way to tell if a mushroom is edible just by it's cap color.\n"
   ]
  },
  {
   "cell_type": "code",
   "execution_count": 149,
   "id": "dc947857",
   "metadata": {},
   "outputs": [
    {
     "data": {
      "text/plain": [
       "<AxesSubplot:xlabel='cap-color', ylabel='edible/poisonous'>"
      ]
     },
     "execution_count": 149,
     "metadata": {},
     "output_type": "execute_result"
    },
    {
     "data": {
      "image/png": "[encoded data removed]",
      "text/plain": [
       "<Figure size 432x288 with 1 Axes>"
      ]
     },
     "metadata": {
      "needs_background": "light"
     },
     "output_type": "display_data"
    }
   ],
   "source": [
    "data.plot.scatter(x='cap-color', y='edible/poisonous')"
   ]
  },
  {
   "cell_type": "markdown",
   "id": "cea38f80",
   "metadata": {},
   "source": [
    "According to the data set any mushroom with a cap color of purple or green is edible. There are no poisonous mushrooms that have a purple or green cap color."
   ]
  },
  {
   "cell_type": "code",
   "execution_count": null,
   "id": "1a857410",
   "metadata": {},
   "outputs": [],
   "source": []
  },
  {
   "cell_type": "code",
   "execution_count": null,
   "id": "0270efeb",
   "metadata": {},
   "outputs": [],
   "source": []
  }
 ],
 "metadata": {
  "kernelspec": {
   "display_name": "Python 3 (ipykernel)",
   "language": "python",
   "name": "python3"
  },
  "language_info": {
   "codemirror_mode": {
    "name": "ipython",
    "version": 3
   },
   "file_extension": ".py",
   "mimetype": "text/x-python",
   "name": "python",
   "nbconvert_exporter": "python",
   "pygments_lexer": "ipython3",
   "version": "3.10.4"
  }
 },
 "nbformat": 4,
 "nbformat_minor": 5
}
