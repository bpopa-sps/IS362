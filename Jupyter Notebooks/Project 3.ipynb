{
 "cells": [
  {
   "cell_type": "markdown",
   "id": "e30b74b9",
   "metadata": {},
   "source": [
    "## Project 3\n",
    "### by Bogdan Popa\n",
    "\n",
    "Import the SQLAlchemly db To work with SQL queries and sqlite DBs"
   ]
  },
  {
   "cell_type": "code",
   "execution_count": 42,
   "id": "e967ddd9",
   "metadata": {},
   "outputs": [],
   "source": [
    "import sqlalchemy as sqla\n",
    "import pandas as pd"
   ]
  },
  {
   "cell_type": "markdown",
   "id": "ca6469fa",
   "metadata": {},
   "source": [
    "Connect to the Chinook sqlite DB file."
   ]
  },
  {
   "cell_type": "code",
   "execution_count": 43,
   "id": "a7c10092",
   "metadata": {},
   "outputs": [],
   "source": [
    "db=sqla.create_engine('sqlite:///Chinook_Sqlite.sqlite')"
   ]
  },
  {
   "cell_type": "markdown",
   "id": "19f840f9",
   "metadata": {},
   "source": [
    "Set up the SQL Query joinning the Customer, Invoice, InvoiceLine, Track and Album tables. Selecting only hte custoers first and last name, and the track and album names."
   ]
  },
  {
   "cell_type": "code",
   "execution_count": 44,
   "id": "f065fc41",
   "metadata": {},
   "outputs": [],
   "source": [
    "sql=\"\"\"SELECT c.LastName, c.FirstName, t.Name as \"Track Name\", a.Title as \"Album Name\"\n",
    "       FROM Customer as c \n",
    "       INNER JOIN Invoice as i \n",
    "       ON c.CustomerId=i.CustomerId\n",
    "       INNER JOIN InvoiceLine as il\n",
    "       ON i.InvoiceId = il.InvoiceId\n",
    "       INNER JOIN Track as t\n",
    "       ON il.TrackId = t.TrackId\n",
    "       INNER JOIN Album a\n",
    "       ON t.AlbumId = a.AlbumId\n",
    "       ORDER BY c.LastName, c.FirstName, t.Name, a.Title\n",
    "       \"\"\""
   ]
  },
  {
   "cell_type": "markdown",
   "id": "7bcde41c",
   "metadata": {},
   "source": [
    "Lastly, running the SQL Query against the Chinook DB."
   ]
  },
  {
   "cell_type": "code",
   "execution_count": 45,
   "id": "32e79595",
   "metadata": {
    "scrolled": false
   },
   "outputs": [
    {
     "data": {
      "text/html": [
       "<div>\n",
       "<style scoped>\n",
       "    .dataframe tbody tr th:only-of-type {\n",
       "        vertical-align: middle;\n",
       "    }\n",
       "\n",
       "    .dataframe tbody tr th {\n",
       "        vertical-align: top;\n",
       "    }\n",
       "\n",
       "    .dataframe thead th {\n",
       "        text-align: right;\n",
       "    }\n",
       "</style>\n",
       "<table border=\"1\" class=\"dataframe\">\n",
       "  <thead>\n",
       "    <tr style=\"text-align: right;\">\n",
       "      <th></th>\n",
       "      <th>LastName</th>\n",
       "      <th>FirstName</th>\n",
       "      <th>Track Name</th>\n",
       "      <th>Album Name</th>\n",
       "    </tr>\n",
       "  </thead>\n",
       "  <tbody>\n",
       "    <tr>\n",
       "      <th>0</th>\n",
       "      <td>Almeida</td>\n",
       "      <td>Roberto</td>\n",
       "      <td>Amor De Muito</td>\n",
       "      <td>Afrociberdelia</td>\n",
       "    </tr>\n",
       "    <tr>\n",
       "      <th>1</th>\n",
       "      <td>Almeida</td>\n",
       "      <td>Roberto</td>\n",
       "      <td>Aos Leões</td>\n",
       "      <td>Demorou...</td>\n",
       "    </tr>\n",
       "    <tr>\n",
       "      <th>2</th>\n",
       "      <td>Almeida</td>\n",
       "      <td>Roberto</td>\n",
       "      <td>Banditismo Por Uma Questa</td>\n",
       "      <td>Da Lama Ao Caos</td>\n",
       "    </tr>\n",
       "    <tr>\n",
       "      <th>3</th>\n",
       "      <td>Almeida</td>\n",
       "      <td>Roberto</td>\n",
       "      <td>Be Good Johnny</td>\n",
       "      <td>The Best Of Men At Work</td>\n",
       "    </tr>\n",
       "    <tr>\n",
       "      <th>4</th>\n",
       "      <td>Almeida</td>\n",
       "      <td>Roberto</td>\n",
       "      <td>Burden In My Hand</td>\n",
       "      <td>A-Sides</td>\n",
       "    </tr>\n",
       "  </tbody>\n",
       "</table>\n",
       "</div>"
      ],
      "text/plain": [
       "  LastName FirstName                 Track Name               Album Name\n",
       "0  Almeida   Roberto              Amor De Muito           Afrociberdelia\n",
       "1  Almeida   Roberto                  Aos Leões               Demorou...\n",
       "2  Almeida   Roberto  Banditismo Por Uma Questa          Da Lama Ao Caos\n",
       "3  Almeida   Roberto             Be Good Johnny  The Best Of Men At Work\n",
       "4  Almeida   Roberto          Burden In My Hand                  A-Sides"
      ]
     },
     "execution_count": 45,
     "metadata": {},
     "output_type": "execute_result"
    }
   ],
   "source": [
    "pd.read_sql(sql, db).head()"
   ]
  },
  {
   "cell_type": "code",
   "execution_count": null,
   "id": "caab13eb",
   "metadata": {},
   "outputs": [],
   "source": []
  },
  {
   "cell_type": "code",
   "execution_count": null,
   "id": "69037504",
   "metadata": {},
   "outputs": [],
   "source": []
  }
 ],
 "metadata": {
  "kernelspec": {
   "display_name": "Python 3 (ipykernel)",
   "language": "python",
   "name": "python3"
  },
  "language_info": {
   "codemirror_mode": {
    "name": "ipython",
    "version": 3
   },
   "file_extension": ".py",
   "mimetype": "text/x-python",
   "name": "python",
   "nbconvert_exporter": "python",
   "pygments_lexer": "ipython3",
   "version": "3.10.4"
  }
 },
 "nbformat": 4,
 "nbformat_minor": 5
}
