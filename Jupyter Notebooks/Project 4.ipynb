{
 "cells": [
  {
   "cell_type": "markdown",
   "id": "dcf0127a",
   "metadata": {},
   "source": [
    "## Project 4 - Predictive Analysis using scikit-learn\n",
    "### by Bogdan Popa\n",
    "\n",
    "Using scikit-learn surpervised machine learning I will analyse the mushroom dataset from the UCI repository and determine if the \"odor\" or \"cap-color\" column better predicts if a mushroom is poisonous.\n",
    "\n",
    "To start I will import all the libraries needed."
   ]
  },
  {
   "cell_type": "code",
   "execution_count": 12,
   "id": "82de1a18",
   "metadata": {},
   "outputs": [],
   "source": [
    "# starting with pandas\n",
    "import pandas as pd\n",
    "# numpy for calculations\n",
    "import numpy as np\n",
    "# matplotlib for graphically representing the data\n",
    "import matplotlib.pyplot as plt\n",
    "# importing sklearn for surpevise learning and prediction modeling\n",
    "from sklearn.model_selection import train_test_split\n",
    "from sklearn.neighbors import KNeighborsClassifier\n",
    "from sklearn import metrics"
   ]
  },
  {
   "cell_type": "markdown",
   "id": "e5204efd",
   "metadata": {},
   "source": [
    "Next let's take a look at the data and transform it to meet our needs. The mushroom data set has 23 columlns representing different attributes of mushrooms. Each atribute is represented by a symbol which is explained in the dataset's documentation file."
   ]
  },
  {
   "cell_type": "code",
   "execution_count": 13,
   "id": "93ecb8df",
   "metadata": {},
   "outputs": [
    {
     "data": {
      "text/html": [
       "<div>\n",
       "<style scoped>\n",
       "    .dataframe tbody tr th:only-of-type {\n",
       "        vertical-align: middle;\n",
       "    }\n",
       "\n",
       "    .dataframe tbody tr th {\n",
       "        vertical-align: top;\n",
       "    }\n",
       "\n",
       "    .dataframe thead th {\n",
       "        text-align: right;\n",
       "    }\n",
       "</style>\n",
       "<table border=\"1\" class=\"dataframe\">\n",
       "  <thead>\n",
       "    <tr style=\"text-align: right;\">\n",
       "      <th></th>\n",
       "      <th>edible/poisonous</th>\n",
       "      <th>cap-shape</th>\n",
       "      <th>cap-surface</th>\n",
       "      <th>cap-color</th>\n",
       "      <th>bruises</th>\n",
       "      <th>odor</th>\n",
       "      <th>gill-attachment</th>\n",
       "      <th>gill-spacing</th>\n",
       "      <th>gill-size</th>\n",
       "      <th>gill-color</th>\n",
       "      <th>...</th>\n",
       "      <th>stalk-surface-below-ring</th>\n",
       "      <th>stalk-color-above-ring</th>\n",
       "      <th>stalk-color-below-ring</th>\n",
       "      <th>veil-type</th>\n",
       "      <th>veil-color</th>\n",
       "      <th>ring-number</th>\n",
       "      <th>ring-type</th>\n",
       "      <th>spore-print-color</th>\n",
       "      <th>population</th>\n",
       "      <th>habitat</th>\n",
       "    </tr>\n",
       "  </thead>\n",
       "  <tbody>\n",
       "    <tr>\n",
       "      <th>0</th>\n",
       "      <td>p</td>\n",
       "      <td>x</td>\n",
       "      <td>s</td>\n",
       "      <td>n</td>\n",
       "      <td>t</td>\n",
       "      <td>p</td>\n",
       "      <td>f</td>\n",
       "      <td>c</td>\n",
       "      <td>n</td>\n",
       "      <td>k</td>\n",
       "      <td>...</td>\n",
       "      <td>s</td>\n",
       "      <td>w</td>\n",
       "      <td>w</td>\n",
       "      <td>p</td>\n",
       "      <td>w</td>\n",
       "      <td>o</td>\n",
       "      <td>p</td>\n",
       "      <td>k</td>\n",
       "      <td>s</td>\n",
       "      <td>u</td>\n",
       "    </tr>\n",
       "    <tr>\n",
       "      <th>1</th>\n",
       "      <td>e</td>\n",
       "      <td>x</td>\n",
       "      <td>s</td>\n",
       "      <td>y</td>\n",
       "      <td>t</td>\n",
       "      <td>a</td>\n",
       "      <td>f</td>\n",
       "      <td>c</td>\n",
       "      <td>b</td>\n",
       "      <td>k</td>\n",
       "      <td>...</td>\n",
       "      <td>s</td>\n",
       "      <td>w</td>\n",
       "      <td>w</td>\n",
       "      <td>p</td>\n",
       "      <td>w</td>\n",
       "      <td>o</td>\n",
       "      <td>p</td>\n",
       "      <td>n</td>\n",
       "      <td>n</td>\n",
       "      <td>g</td>\n",
       "    </tr>\n",
       "    <tr>\n",
       "      <th>2</th>\n",
       "      <td>e</td>\n",
       "      <td>b</td>\n",
       "      <td>s</td>\n",
       "      <td>w</td>\n",
       "      <td>t</td>\n",
       "      <td>l</td>\n",
       "      <td>f</td>\n",
       "      <td>c</td>\n",
       "      <td>b</td>\n",
       "      <td>n</td>\n",
       "      <td>...</td>\n",
       "      <td>s</td>\n",
       "      <td>w</td>\n",
       "      <td>w</td>\n",
       "      <td>p</td>\n",
       "      <td>w</td>\n",
       "      <td>o</td>\n",
       "      <td>p</td>\n",
       "      <td>n</td>\n",
       "      <td>n</td>\n",
       "      <td>m</td>\n",
       "    </tr>\n",
       "    <tr>\n",
       "      <th>3</th>\n",
       "      <td>p</td>\n",
       "      <td>x</td>\n",
       "      <td>y</td>\n",
       "      <td>w</td>\n",
       "      <td>t</td>\n",
       "      <td>p</td>\n",
       "      <td>f</td>\n",
       "      <td>c</td>\n",
       "      <td>n</td>\n",
       "      <td>n</td>\n",
       "      <td>...</td>\n",
       "      <td>s</td>\n",
       "      <td>w</td>\n",
       "      <td>w</td>\n",
       "      <td>p</td>\n",
       "      <td>w</td>\n",
       "      <td>o</td>\n",
       "      <td>p</td>\n",
       "      <td>k</td>\n",
       "      <td>s</td>\n",
       "      <td>u</td>\n",
       "    </tr>\n",
       "    <tr>\n",
       "      <th>4</th>\n",
       "      <td>e</td>\n",
       "      <td>x</td>\n",
       "      <td>s</td>\n",
       "      <td>g</td>\n",
       "      <td>f</td>\n",
       "      <td>n</td>\n",
       "      <td>f</td>\n",
       "      <td>w</td>\n",
       "      <td>b</td>\n",
       "      <td>k</td>\n",
       "      <td>...</td>\n",
       "      <td>s</td>\n",
       "      <td>w</td>\n",
       "      <td>w</td>\n",
       "      <td>p</td>\n",
       "      <td>w</td>\n",
       "      <td>o</td>\n",
       "      <td>e</td>\n",
       "      <td>n</td>\n",
       "      <td>a</td>\n",
       "      <td>g</td>\n",
       "    </tr>\n",
       "  </tbody>\n",
       "</table>\n",
       "<p>5 rows × 23 columns</p>\n",
       "</div>"
      ],
      "text/plain": [
       "  edible/poisonous cap-shape cap-surface cap-color bruises odor  \\\n",
       "0                p         x           s         n       t    p   \n",
       "1                e         x           s         y       t    a   \n",
       "2                e         b           s         w       t    l   \n",
       "3                p         x           y         w       t    p   \n",
       "4                e         x           s         g       f    n   \n",
       "\n",
       "  gill-attachment gill-spacing gill-size gill-color  ...  \\\n",
       "0               f            c         n          k  ...   \n",
       "1               f            c         b          k  ...   \n",
       "2               f            c         b          n  ...   \n",
       "3               f            c         n          n  ...   \n",
       "4               f            w         b          k  ...   \n",
       "\n",
       "  stalk-surface-below-ring stalk-color-above-ring stalk-color-below-ring  \\\n",
       "0                        s                      w                      w   \n",
       "1                        s                      w                      w   \n",
       "2                        s                      w                      w   \n",
       "3                        s                      w                      w   \n",
       "4                        s                      w                      w   \n",
       "\n",
       "  veil-type veil-color ring-number ring-type spore-print-color population  \\\n",
       "0         p          w           o         p                 k          s   \n",
       "1         p          w           o         p                 n          n   \n",
       "2         p          w           o         p                 n          n   \n",
       "3         p          w           o         p                 k          s   \n",
       "4         p          w           o         e                 n          a   \n",
       "\n",
       "  habitat  \n",
       "0       u  \n",
       "1       g  \n",
       "2       m  \n",
       "3       u  \n",
       "4       g  \n",
       "\n",
       "[5 rows x 23 columns]"
      ]
     },
     "execution_count": 13,
     "metadata": {},
     "output_type": "execute_result"
    }
   ],
   "source": [
    "# Read the data and assign it to the data dataset. The data does not have a header row.\n",
    "data = pd.read_csv('agaricus-lepiota.data', sep=\",\", header=None)\n",
    "\n",
    "# Adding headers to each of the 23 columns based on the information found on the UCI repository \n",
    "data.columns =[\"edible/poisonous\",\"cap-shape\",\"cap-surface\",\"cap-color\",\"bruises\",\"odor\",\n",
    "              \"gill-attachment\",\"gill-spacing\",\"gill-size\",\"gill-color\",\"stalk-shape\",\"stalk-root\",\n",
    "              \"stalk-surface-above-ring\",\"stalk-surface-below-ring\",\"stalk-color-above-ring\",\n",
    "              \"stalk-color-below-ring\",\"veil-type\",\"veil-color\",\"ring-number\",\"ring-type\",\n",
    "              \"spore-print-color\",\"population\",\"habitat\"]\n",
    "\n",
    "\n",
    "# Verifing that the data was imported\n",
    "data.head()"
   ]
  },
  {
   "cell_type": "code",
   "execution_count": 14,
   "id": "c97f818a",
   "metadata": {},
   "outputs": [
    {
     "data": {
      "text/plain": [
       "(8124, 23)"
      ]
     },
     "execution_count": 14,
     "metadata": {},
     "output_type": "execute_result"
    }
   ],
   "source": [
    "data.shape"
   ]
  },
  {
   "cell_type": "markdown",
   "id": "15506ca7",
   "metadata": {},
   "source": [
    "The data set has 8124 rows and 23 columns."
   ]
  },
  {
   "cell_type": "markdown",
   "id": "6d9efb11",
   "metadata": {},
   "source": [
    "### \"Edible/Poisonous\", \"Odor\", and \"Cap-color\" dataset\n",
    "\n",
    "For the project we only the \"Edible/Poisonous\", \"Odor\", and \"Cap-color\" columns are needed. I create a new dataset, called \"newdf\", using only the 3 columns"
   ]
  },
  {
   "cell_type": "code",
   "execution_count": 15,
   "id": "b2b2d3f1",
   "metadata": {},
   "outputs": [
    {
     "data": {
      "text/html": [
       "<div>\n",
       "<style scoped>\n",
       "    .dataframe tbody tr th:only-of-type {\n",
       "        vertical-align: middle;\n",
       "    }\n",
       "\n",
       "    .dataframe tbody tr th {\n",
       "        vertical-align: top;\n",
       "    }\n",
       "\n",
       "    .dataframe thead th {\n",
       "        text-align: right;\n",
       "    }\n",
       "</style>\n",
       "<table border=\"1\" class=\"dataframe\">\n",
       "  <thead>\n",
       "    <tr style=\"text-align: right;\">\n",
       "      <th></th>\n",
       "      <th>edible/poisonous</th>\n",
       "      <th>odor</th>\n",
       "      <th>cap-color</th>\n",
       "    </tr>\n",
       "  </thead>\n",
       "  <tbody>\n",
       "    <tr>\n",
       "      <th>0</th>\n",
       "      <td>p</td>\n",
       "      <td>p</td>\n",
       "      <td>n</td>\n",
       "    </tr>\n",
       "    <tr>\n",
       "      <th>1</th>\n",
       "      <td>e</td>\n",
       "      <td>a</td>\n",
       "      <td>y</td>\n",
       "    </tr>\n",
       "    <tr>\n",
       "      <th>2</th>\n",
       "      <td>e</td>\n",
       "      <td>l</td>\n",
       "      <td>w</td>\n",
       "    </tr>\n",
       "    <tr>\n",
       "      <th>3</th>\n",
       "      <td>p</td>\n",
       "      <td>p</td>\n",
       "      <td>w</td>\n",
       "    </tr>\n",
       "    <tr>\n",
       "      <th>4</th>\n",
       "      <td>e</td>\n",
       "      <td>n</td>\n",
       "      <td>g</td>\n",
       "    </tr>\n",
       "  </tbody>\n",
       "</table>\n",
       "</div>"
      ],
      "text/plain": [
       "  edible/poisonous odor cap-color\n",
       "0                p    p         n\n",
       "1                e    a         y\n",
       "2                e    l         w\n",
       "3                p    p         w\n",
       "4                e    n         g"
      ]
     },
     "execution_count": 15,
     "metadata": {},
     "output_type": "execute_result"
    }
   ],
   "source": [
    "newdf = data.filter(['edible/poisonous','odor','cap-color'])\n",
    "newdf.head()"
   ]
  },
  {
   "cell_type": "markdown",
   "id": "88bcb123",
   "metadata": {},
   "source": [
    "Scikit-learn can only interpret numeric data. Therefore, the newdf data needs to be converted to numeric. Each code will be converted to a numerical value using the following tables:\n",
    "\n",
    "\n",
    "| Edible/Poisonous | Code | Numeric Value |\n",
    "| :- | :- | :- |\n",
    "| Edible | e | 0 |\n",
    "| Poisonous | p | 1 |\n",
    "\n",
    "\n",
    "| Odor | Code | Numeric Value |\n",
    "| :- | :- | :- |\n",
    "| almond | a | 1 |\n",
    "| anise | l | 2 |\n",
    "| creosote | c | 3 |\n",
    "| fishy | y | 4 |\n",
    "| foul | f | 5 |\n",
    "| musty | m | 6 |\n",
    "| none | n | 0 |\n",
    "| pungent | p | 7 |\n",
    "| spicy | s | 8 |\n",
    "\n",
    "\n",
    "| Cap Color | Code | Numeric Value |\n",
    "| :- | :- | :- |\n",
    "| brown | n | 0 |\n",
    "| buff | b | 1 |\n",
    "| cinnamon | c | 2 |\n",
    "| gray | g | 3 |\n",
    "| green | r | 4 |\n",
    "| pink | p | 5 |\n",
    "| purple | u | 6 |\n",
    "| red | e | 7 |\n",
    "| white | w | 8 |\n",
    "| yellow | y | 9 |"
   ]
  },
  {
   "cell_type": "code",
   "execution_count": 16,
   "id": "a91c09d6",
   "metadata": {},
   "outputs": [
    {
     "data": {
      "text/html": [
       "<div>\n",
       "<style scoped>\n",
       "    .dataframe tbody tr th:only-of-type {\n",
       "        vertical-align: middle;\n",
       "    }\n",
       "\n",
       "    .dataframe tbody tr th {\n",
       "        vertical-align: top;\n",
       "    }\n",
       "\n",
       "    .dataframe thead th {\n",
       "        text-align: right;\n",
       "    }\n",
       "</style>\n",
       "<table border=\"1\" class=\"dataframe\">\n",
       "  <thead>\n",
       "    <tr style=\"text-align: right;\">\n",
       "      <th></th>\n",
       "      <th>edible/poisonous</th>\n",
       "      <th>odor</th>\n",
       "      <th>cap-color</th>\n",
       "    </tr>\n",
       "  </thead>\n",
       "  <tbody>\n",
       "    <tr>\n",
       "      <th>0</th>\n",
       "      <td>1</td>\n",
       "      <td>7</td>\n",
       "      <td>0</td>\n",
       "    </tr>\n",
       "    <tr>\n",
       "      <th>1</th>\n",
       "      <td>0</td>\n",
       "      <td>1</td>\n",
       "      <td>9</td>\n",
       "    </tr>\n",
       "    <tr>\n",
       "      <th>2</th>\n",
       "      <td>0</td>\n",
       "      <td>2</td>\n",
       "      <td>8</td>\n",
       "    </tr>\n",
       "    <tr>\n",
       "      <th>3</th>\n",
       "      <td>1</td>\n",
       "      <td>7</td>\n",
       "      <td>8</td>\n",
       "    </tr>\n",
       "    <tr>\n",
       "      <th>4</th>\n",
       "      <td>0</td>\n",
       "      <td>0</td>\n",
       "      <td>3</td>\n",
       "    </tr>\n",
       "  </tbody>\n",
       "</table>\n",
       "</div>"
      ],
      "text/plain": [
       "   edible/poisonous  odor  cap-color\n",
       "0                 1     7          0\n",
       "1                 0     1          9\n",
       "2                 0     2          8\n",
       "3                 1     7          8\n",
       "4                 0     0          3"
      ]
     },
     "execution_count": 16,
     "metadata": {},
     "output_type": "execute_result"
    }
   ],
   "source": [
    "# Replacing codes in each columln with the nulmeric values found above.\n",
    "newdf['edible/poisonous']=newdf['edible/poisonous'].replace({'e':0,'p':1})\n",
    "newdf['odor']=newdf['odor'].replace({'a':1,'l':2,'c':3,'y':4,'f':5,'m':6,'n':0,'p':7,'s':8})\n",
    "newdf['cap-color']=newdf['cap-color'].replace({'n':0,'b':1,'c':2,'g':3,'r':4,'p':5,'u':6,'e':7,'w':8,'y':9})\n",
    "\n",
    "# printing the header to verify\n",
    "newdf.head()"
   ]
  },
  {
   "cell_type": "markdown",
   "id": "7fdf6f1c",
   "metadata": {},
   "source": [
    "### Machine learning\n",
    "\n",
    "Now that the data frame is ready for Scikit-learn it is time to assing what data will be used as features and which column will bbe the observation.\n",
    "\n",
    "In the case of the mushroom dataset the target or observation column will be the \"edible/poisonous\" column and the features or predictor columns will be the \"odor\" and \"cap-color\" columns.\n",
    "\n"
   ]
  },
  {
   "cell_type": "code",
   "execution_count": 17,
   "id": "efc282a1",
   "metadata": {},
   "outputs": [],
   "source": [
    "# Selecting thhe feature columns\n",
    "feature_cols = ['odor','cap-color']\n",
    "# Assigning the feature columns to X\n",
    "X=newdf[feature_cols]\n",
    "\n",
    "# Assigning the target values to y\n",
    "y = newdf['edible/poisonous']"
   ]
  },
  {
   "cell_type": "markdown",
   "id": "71dc95e0",
   "metadata": {},
   "source": [
    "I will use the train_test_split function to split the data into trainning data and testing data with a ration of 70 (trainning data) and 30 (testing data).\n",
    "\n",
    "Using a 'for' loop I will test the accuracy of n_neighbors K value."
   ]
  },
  {
   "cell_type": "code",
   "execution_count": 18,
   "id": "957b2394",
   "metadata": {},
   "outputs": [],
   "source": [
    "# Using the train_test_split method to devide the dataset.\n",
    "X_train, X_test, y_train, y_test = train_test_split(X,y,test_size = 0.30,random_state=10)\n",
    "\n",
    "# select a range for K to test whcih value is most accurate\n",
    "k_range=range(1,80)\n",
    "k_scores =[]\n",
    "for k in k_range:\n",
    "    # for each k value between 1 and 80 perform the following\n",
    "    knn = KNeighborsClassifier(n_neighbors=k)\n",
    "    # recird the accuracy score\n",
    "    scores = cross_val_score(knn, X, y, cv=10, scoring='accuracy')\n",
    "    k_scores.append(scores.mean())"
   ]
  },
  {
   "cell_type": "markdown",
   "id": "20f58fac",
   "metadata": {},
   "source": [
    "To visualize which K value was most accurate I wil plot the data from k_scores."
   ]
  },
  {
   "cell_type": "code",
   "execution_count": 19,
   "id": "03948637",
   "metadata": {},
   "outputs": [
    {
     "data": {
      "text/plain": [
       "Text(0, 0.5, 'Cross-Validated Accuracy')"
      ]
     },
     "execution_count": 19,
     "metadata": {},
     "output_type": "execute_result"
    },
    {
     "data": {
      "image/png": "[encoded data removed]",
      "text/plain": [
       "<Figure size 432x288 with 1 Axes>"
      ]
     },
     "metadata": {
      "needs_background": "light"
     },
     "output_type": "display_data"
    }
   ],
   "source": [
    "%matplotlib inline\n",
    "# plot the data\n",
    "plt.plot(k_range, k_scores)\n",
    "# label the axis\n",
    "plt.xlabel('Value of K for KNN')\n",
    "plt.ylabel('Cross-Validated Accuracy')"
   ]
  },
  {
   "cell_type": "markdown",
   "id": "5826abde",
   "metadata": {},
   "source": [
    "The plotted data shows that K values between 50 and 70 are the most accurate with an accuracy rating of 98%.\n",
    "\n",
    "Going forward I will set the n_neighbors value to 50.\n",
    "\n",
    "Next it is time to test how accurate using both 'odor' and 'cap-color' is to determining if a mushroom is poisonous."
   ]
  },
  {
   "cell_type": "code",
   "execution_count": 20,
   "id": "0d9ca07f",
   "metadata": {},
   "outputs": [
    {
     "name": "stdout",
     "output_type": "stream",
     "text": [
      "0.9860541427399507\n"
     ]
    }
   ],
   "source": [
    "# setting the n_neighbors to 50\n",
    "knn = KNeighborsClassifier(n_neighbors=50)\n",
    "# training the model\n",
    "knn.fit(X_train, y_train)\n",
    "# testing the model and saving the predictiions to to y_pred\n",
    "y_pred = knn.predict(X_test)\n",
    "# comparing the test with the predictions and determining accuracy\n",
    "print(metrics.accuracy_score(y_test, y_pred))"
   ]
  },
  {
   "cell_type": "markdown",
   "id": "b100cff9",
   "metadata": {},
   "source": [
    "The result of this prediction model is that \"Odor\" and \"Cap-color\" together can accuretely predict if a mushroom is poisonous 98.6% of the time.\n",
    "\n",
    "However the task is to determine which of the two features is more accurate in predicting poisonous mushrooms. Therefore, next I will rerun the macine modeling for each of the two colulmns individually. "
   ]
  },
  {
   "cell_type": "code",
   "execution_count": 21,
   "id": "bd53f9ba",
   "metadata": {},
   "outputs": [
    {
     "name": "stdout",
     "output_type": "stream",
     "text": [
      "0.9860541427399507\n"
     ]
    }
   ],
   "source": [
    "#set the feature column to 'odor'\n",
    "feature_cols = ['odor']\n",
    "X=newdf[feature_cols]\n",
    "\n",
    "# rerun same parameters as before for only the 'odor' columln\n",
    "X_train, X_test, y_train, y_test = train_test_split(X,y,test_size = 0.30,random_state=10)\n",
    "knn = KNeighborsClassifier(n_neighbors=50)\n",
    "knn.fit(X_train, y_train)\n",
    "y_pred = knn.predict(X_test)\n",
    "print(metrics.accuracy_score(y_test, y_pred))"
   ]
  },
  {
   "cell_type": "markdown",
   "id": "b80cb708",
   "metadata": {},
   "source": [
    "The mushrooms odor alone can predict if a mushroom is poisonous 98.6% of the time. Next let's look at the 'cap-color' by it's self."
   ]
  },
  {
   "cell_type": "code",
   "execution_count": 22,
   "id": "673990ad",
   "metadata": {},
   "outputs": [
    {
     "name": "stdout",
     "output_type": "stream",
     "text": [
      "0.5680885972108285\n"
     ]
    }
   ],
   "source": [
    "# setting the feature column to 'cap-color'\n",
    "feature_cols = ['cap-color']\n",
    "X=newdf[feature_cols]\n",
    "\n",
    "# keeping everything else the same\n",
    "X_train, X_test, y_train, y_test = train_test_split(X,y,test_size = 0.30,random_state=10)\n",
    "knn = KNeighborsClassifier(n_neighbors=50)\n",
    "knn.fit(X_train, y_train)\n",
    "y_pred = knn.predict(X_test)\n",
    "print(metrics.accuracy_score(y_test, y_pred))"
   ]
  },
  {
   "cell_type": "markdown",
   "id": "3ac648eb",
   "metadata": {},
   "source": [
    "The result is that \"cap-color\" can only predict poisonous mushroom 56.8% of the time"
   ]
  },
  {
   "cell_type": "markdown",
   "id": "17e09bc1",
   "metadata": {},
   "source": [
    "### Conclusion\n",
    " Using surpervised machine learning I was able to determine that 'Odor' is far more likely to determine if a mushroom is poisonous than 'cap color'. The odor feature alone was able to predict if a mushroom was poisonous 98.6% of the time. The cap-color feature did so only 56.8% of the time."
   ]
  },
  {
   "cell_type": "code",
   "execution_count": null,
   "id": "000c71a4",
   "metadata": {},
   "outputs": [],
   "source": []
  },
  {
   "cell_type": "code",
   "execution_count": null,
   "id": "6b9589dc",
   "metadata": {},
   "outputs": [],
   "source": []
  }
 ],
 "metadata": {
  "kernelspec": {
   "display_name": "Python 3 (ipykernel)",
   "language": "python",
   "name": "python3"
  },
  "language_info": {
   "codemirror_mode": {
    "name": "ipython",
    "version": 3
   },
   "file_extension": ".py",
   "mimetype": "text/x-python",
   "name": "python",
   "nbconvert_exporter": "python",
   "pygments_lexer": "ipython3",
   "version": "3.10.4"
  }
 },
 "nbformat": 4,
 "nbformat_minor": 5
}
