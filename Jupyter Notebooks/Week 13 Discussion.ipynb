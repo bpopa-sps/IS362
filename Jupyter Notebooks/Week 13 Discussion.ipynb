{
 "cells": [
  {
   "cell_type": "markdown",
   "id": "179e9d7f",
   "metadata": {},
   "source": [
    "### Week 13 Discussion\n",
    "##### by Bogdan Popa"
   ]
  },
  {
   "cell_type": "markdown",
   "id": "a2991599",
   "metadata": {},
   "source": [
    "### Identify a recommender system web site\n",
    "\n",
    "The website I selected for this assignment is https://trakt.tv. Trakt.tv allows its users to track movies or show's that they have watched and to rate them on a 1-10 scale. Their algorithm analyses your personal preferences and ratings, compares them to everyone elses' data and then provides recommendations on what movies or shows to watch next. It is very similar to Netflix; however, it does not have the limitation of the only shows currently streaming. "
   ]
  },
  {
   "cell_type": "markdown",
   "id": "29e7a6b6",
   "metadata": {},
   "source": [
    "#### Who are the targeted users?\n",
    "\n",
    "Trakt.tv's targets anyone who wishes to keep track of movies or shows they have watched, and anyone looking for recommendations on what to watch next."
   ]
  },
  {
   "cell_type": "markdown",
   "id": "b670c123",
   "metadata": {},
   "source": [
    "#### What are their key goals?\n",
    "\n",
    "Trakt.tv's members' key goals are to track what shows or movies they watch and, based on their ratings, be recommended new things to watch. Additionally, the recommendations need to match the users' taste in entertainment."
   ]
  },
  {
   "cell_type": "markdown",
   "id": "787f6f9b",
   "metadata": {},
   "source": [
    "#### How can you help them accomplish those goals?\n",
    "\n",
    "Using the data inputted by each member, an algorithm can be created to analyze it and design suggestions based on common ground. For example, the algorithm can look for the common denominator of movies watched and enjoyed. Then, using machine learning, it can predict what other shows the user might like."
   ]
  },
  {
   "cell_type": "code",
   "execution_count": null,
   "id": "ae34214f",
   "metadata": {},
   "outputs": [],
   "source": []
  },
  {
   "cell_type": "code",
   "execution_count": null,
   "id": "dd1bfa46",
   "metadata": {},
   "outputs": [],
   "source": []
  }
 ],
 "metadata": {
  "kernelspec": {
   "display_name": "Python 3 (ipykernel)",
   "language": "python",
   "name": "python3"
  },
  "language_info": {
   "codemirror_mode": {
    "name": "ipython",
    "version": 3
   },
   "file_extension": ".py",
   "mimetype": "text/x-python",
   "name": "python",
   "nbconvert_exporter": "python",
   "pygments_lexer": "ipython3",
   "version": "3.10.4"
  }
 },
 "nbformat": 4,
 "nbformat_minor": 5
}
