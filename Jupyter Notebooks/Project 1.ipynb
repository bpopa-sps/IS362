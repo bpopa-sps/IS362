{
 "cells": [
  {
   "cell_type": "markdown",
   "id": "acb7e2b2",
   "metadata": {},
   "source": [
    "# IS 362 - Project 1\n",
    "### by Bogdan Popa"
   ]
  },
  {
   "cell_type": "markdown",
   "id": "dfdc88c0",
   "metadata": {},
   "source": [
    "To start I have created a Project1Data.csv file with all the data required for this project.\n",
    "\n",
    "Next I import the pandas library, and load the data from teh .csv file."
   ]
  },
  {
   "cell_type": "code",
   "execution_count": 135,
   "id": "12f1ee87-2204-4927-8ad3-144f5b84a219",
   "metadata": {
    "scrolled": true
   },
   "outputs": [
    {
     "data": {
      "text/html": [
       "<div>\n",
       "<style scoped>\n",
       "    .dataframe tbody tr th:only-of-type {\n",
       "        vertical-align: middle;\n",
       "    }\n",
       "\n",
       "    .dataframe tbody tr th {\n",
       "        vertical-align: top;\n",
       "    }\n",
       "\n",
       "    .dataframe thead th {\n",
       "        text-align: right;\n",
       "    }\n",
       "</style>\n",
       "<table border=\"1\" class=\"dataframe\">\n",
       "  <thead>\n",
       "    <tr style=\"text-align: right;\">\n",
       "      <th></th>\n",
       "      <th>Destination</th>\n",
       "      <th>Alaska On Time</th>\n",
       "      <th>Alaska Delayed</th>\n",
       "      <th>Am West On Time</th>\n",
       "      <th>Am West Delayed</th>\n",
       "    </tr>\n",
       "  </thead>\n",
       "  <tbody>\n",
       "    <tr>\n",
       "      <th>0</th>\n",
       "      <td>Los Angeles</td>\n",
       "      <td>497</td>\n",
       "      <td>62</td>\n",
       "      <td>694</td>\n",
       "      <td>117</td>\n",
       "    </tr>\n",
       "    <tr>\n",
       "      <th>1</th>\n",
       "      <td>Phoenix</td>\n",
       "      <td>221</td>\n",
       "      <td>12</td>\n",
       "      <td>4840</td>\n",
       "      <td>415</td>\n",
       "    </tr>\n",
       "    <tr>\n",
       "      <th>2</th>\n",
       "      <td>San Diego</td>\n",
       "      <td>212</td>\n",
       "      <td>20</td>\n",
       "      <td>383</td>\n",
       "      <td>65</td>\n",
       "    </tr>\n",
       "    <tr>\n",
       "      <th>3</th>\n",
       "      <td>San Francisco</td>\n",
       "      <td>503</td>\n",
       "      <td>102</td>\n",
       "      <td>320</td>\n",
       "      <td>129</td>\n",
       "    </tr>\n",
       "    <tr>\n",
       "      <th>4</th>\n",
       "      <td>Seattle</td>\n",
       "      <td>1841</td>\n",
       "      <td>305</td>\n",
       "      <td>201</td>\n",
       "      <td>61</td>\n",
       "    </tr>\n",
       "  </tbody>\n",
       "</table>\n",
       "</div>"
      ],
      "text/plain": [
       "     Destination  Alaska On Time  Alaska Delayed  Am West On Time  \\\n",
       "0    Los Angeles             497              62              694   \n",
       "1        Phoenix             221              12             4840   \n",
       "2      San Diego             212              20              383   \n",
       "3  San Francisco             503             102              320   \n",
       "4        Seattle            1841             305              201   \n",
       "\n",
       "   Am West Delayed  \n",
       "0              117  \n",
       "1              415  \n",
       "2               65  \n",
       "3              129  \n",
       "4               61  "
      ]
     },
     "execution_count": 135,
     "metadata": {},
     "output_type": "execute_result"
    }
   ],
   "source": [
    "#import pandas\n",
    "import pandas as pd\n",
    "\n",
    "#Import data from csv\n",
    "data = pd.read_csv ('Project1Data.csv')\n",
    "\n",
    "#Dispaly table\n",
    "data"
   ]
  },
  {
   "cell_type": "markdown",
   "id": "c77d07f9",
   "metadata": {},
   "source": [
    "The CSV file has columns for flight destination, on time arrival, and delay arrivails for each of the two airlines Alaska and AM West.\n",
    "\n",
    "To compare the data I will look at the delay percentage of each airline.\n",
    "\n",
    "### Adding new columns that calculate the delay percentage"
   ]
  },
  {
   "cell_type": "code",
   "execution_count": 136,
   "id": "4cd0cec1",
   "metadata": {
    "scrolled": true
   },
   "outputs": [
    {
     "data": {
      "text/html": [
       "<div>\n",
       "<style scoped>\n",
       "    .dataframe tbody tr th:only-of-type {\n",
       "        vertical-align: middle;\n",
       "    }\n",
       "\n",
       "    .dataframe tbody tr th {\n",
       "        vertical-align: top;\n",
       "    }\n",
       "\n",
       "    .dataframe thead th {\n",
       "        text-align: right;\n",
       "    }\n",
       "</style>\n",
       "<table border=\"1\" class=\"dataframe\">\n",
       "  <thead>\n",
       "    <tr style=\"text-align: right;\">\n",
       "      <th></th>\n",
       "      <th>Destination</th>\n",
       "      <th>Alaska On Time</th>\n",
       "      <th>Alaska Delayed</th>\n",
       "      <th>Alaska Delay Percentage</th>\n",
       "      <th>Am West On Time</th>\n",
       "      <th>Am West Delayed</th>\n",
       "      <th>Am West Delay Percentage</th>\n",
       "    </tr>\n",
       "  </thead>\n",
       "  <tbody>\n",
       "    <tr>\n",
       "      <th>0</th>\n",
       "      <td>Los Angeles</td>\n",
       "      <td>497</td>\n",
       "      <td>62</td>\n",
       "      <td>12.47</td>\n",
       "      <td>694</td>\n",
       "      <td>117</td>\n",
       "      <td>16.86</td>\n",
       "    </tr>\n",
       "    <tr>\n",
       "      <th>1</th>\n",
       "      <td>Phoenix</td>\n",
       "      <td>221</td>\n",
       "      <td>12</td>\n",
       "      <td>5.43</td>\n",
       "      <td>4840</td>\n",
       "      <td>415</td>\n",
       "      <td>8.57</td>\n",
       "    </tr>\n",
       "    <tr>\n",
       "      <th>2</th>\n",
       "      <td>San Diego</td>\n",
       "      <td>212</td>\n",
       "      <td>20</td>\n",
       "      <td>9.43</td>\n",
       "      <td>383</td>\n",
       "      <td>65</td>\n",
       "      <td>16.97</td>\n",
       "    </tr>\n",
       "    <tr>\n",
       "      <th>3</th>\n",
       "      <td>San Francisco</td>\n",
       "      <td>503</td>\n",
       "      <td>102</td>\n",
       "      <td>20.28</td>\n",
       "      <td>320</td>\n",
       "      <td>129</td>\n",
       "      <td>40.31</td>\n",
       "    </tr>\n",
       "    <tr>\n",
       "      <th>4</th>\n",
       "      <td>Seattle</td>\n",
       "      <td>1841</td>\n",
       "      <td>305</td>\n",
       "      <td>16.57</td>\n",
       "      <td>201</td>\n",
       "      <td>61</td>\n",
       "      <td>30.35</td>\n",
       "    </tr>\n",
       "  </tbody>\n",
       "</table>\n",
       "</div>"
      ],
      "text/plain": [
       "     Destination  Alaska On Time  Alaska Delayed  Alaska Delay Percentage  \\\n",
       "0    Los Angeles             497              62                    12.47   \n",
       "1        Phoenix             221              12                     5.43   \n",
       "2      San Diego             212              20                     9.43   \n",
       "3  San Francisco             503             102                    20.28   \n",
       "4        Seattle            1841             305                    16.57   \n",
       "\n",
       "   Am West On Time  Am West Delayed  Am West Delay Percentage  \n",
       "0              694              117                     16.86  \n",
       "1             4840              415                      8.57  \n",
       "2              383               65                     16.97  \n",
       "3              320              129                     40.31  \n",
       "4              201               61                     30.35  "
      ]
     },
     "execution_count": 136,
     "metadata": {},
     "output_type": "execute_result"
    }
   ],
   "source": [
    "# Add the \"Alaska Delay Percentage\" column and calculating the percentage\n",
    "data.insert(3,'Alaska Delay Percentage',(round(data['Alaska Delayed']/data[\"Alaska On Time\"]*100,2)))\n",
    "\n",
    "# Add the \"AM West Delay Percentage\"\n",
    "data.insert(6,'Am West Delay Percentage',(round(data['Am West Delayed']/data[\"Am West On Time\"]*100,2)))\n",
    "\n",
    "# Print the new table\n",
    "data"
   ]
  },
  {
   "cell_type": "markdown",
   "id": "d1ef022d",
   "metadata": {},
   "source": [
    "## Analysing and comparing the data\n",
    "\n",
    "To compare the delays between the two airlines, I will plot the delay data on a bar chart.\n",
    "\n"
   ]
  },
  {
   "cell_type": "code",
   "execution_count": 137,
   "id": "de499064",
   "metadata": {},
   "outputs": [
    {
     "data": {
      "text/plain": [
       "<AxesSubplot:title={'center':'Delay Percentage by Destination'}, xlabel='Destination', ylabel='Percentage'>"
      ]
     },
     "execution_count": 137,
     "metadata": {},
     "output_type": "execute_result"
    },
    {
     "data": {
      "image/png": "[encoded data removed]",
      "text/plain": [
       "<Figure size 432x288 with 1 Axes>"
      ]
     },
     "metadata": {
      "needs_background": "light"
     },
     "output_type": "display_data"
    }
   ],
   "source": [
    "# Generating a bar chart to visualize the data\n",
    "# Using \"Destinations\" as teh X-axis and the ALaska and AM West delay percentages as the Y-axis\n",
    "data.plot(x=\"Destination\", y=[\"Alaska Delay Percentage\",\"Am West Delay Percentage\"],\n",
    "                kind=\"bar\",\n",
    "                title=(\"Delay Percentage by Destination\"),\n",
    "                ylabel=(\"Percentage\"),\n",
    "                )"
   ]
  },
  {
   "cell_type": "markdown",
   "id": "5032dd79",
   "metadata": {},
   "source": [
    "The bar chart clearly shows that AM West has significantly more delays per total flights than Alaska airlines for every single destination."
   ]
  },
  {
   "cell_type": "code",
   "execution_count": null,
   "id": "c231be62",
   "metadata": {},
   "outputs": [],
   "source": []
  }
 ],
 "metadata": {
  "kernelspec": {
   "display_name": "Python 3 (ipykernel)",
   "language": "python",
   "name": "python3"
  },
  "language_info": {
   "codemirror_mode": {
    "name": "ipython",
    "version": 3
   },
   "file_extension": ".py",
   "mimetype": "text/x-python",
   "name": "python",
   "nbconvert_exporter": "python",
   "pygments_lexer": "ipython3",
   "version": "3.10.2"
  }
 },
 "nbformat": 4,
 "nbformat_minor": 5
}
